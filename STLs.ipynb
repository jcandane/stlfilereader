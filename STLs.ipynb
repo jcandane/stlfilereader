{
  "nbformat": 4,
  "nbformat_minor": 0,
  "metadata": {
    "colab": {
      "provenance": [],
      "collapsed_sections": [],
      "authorship_tag": "ABX9TyO5wcEEFgJulilomU2/fBlL",
      "include_colab_link": true
    },
    "kernelspec": {
      "name": "python3",
      "display_name": "Python 3"
    },
    "language_info": {
      "name": "python"
    }
  },
  "cells": [
    {
      "cell_type": "markdown",
      "metadata": {
        "id": "view-in-github",
        "colab_type": "text"
      },
      "source": [
        "<a href=\"https://colab.research.google.com/github/jcandane/stlfilereader/blob/main/STLs.ipynb\" target=\"_parent\"><img src=\"https://colab.research.google.com/assets/colab-badge.svg\" alt=\"Open In Colab\"/></a>"
      ]
    },
    {
      "cell_type": "markdown",
      "source": [
        "# STL File to Complex"
      ],
      "metadata": {
        "id": "UuZ9AM34HZL2"
      }
    },
    {
      "cell_type": "markdown",
      "source": [
        "Given an STL File, obtain $\\Omega_0$ (0-simplices) and $\\Omega_2$ (2-simplices)."
      ],
      "metadata": {
        "id": "Us-2-GRtHcjF"
      }
    },
    {
      "cell_type": "code",
      "execution_count": 1,
      "metadata": {
        "id": "KHhsgjEbVFKk",
        "colab": {
          "base_uri": "https://localhost:8080/"
        },
        "outputId": "05b72ebb-e4a9-4680-f08e-3c5eaf2750ed"
      },
      "outputs": [
        {
          "output_type": "stream",
          "name": "stdout",
          "text": [
            "Looking in indexes: https://pypi.org/simple, https://us-python.pkg.dev/colab-wheels/public/simple/\n",
            "Collecting numpy-stl\n",
            "  Downloading numpy_stl-2.17.1-py3-none-any.whl (18 kB)\n",
            "Requirement already satisfied: numpy in /usr/local/lib/python3.7/dist-packages (from numpy-stl) (1.21.6)\n",
            "Requirement already satisfied: python-utils>=1.6.2 in /usr/local/lib/python3.7/dist-packages (from numpy-stl) (3.4.5)\n",
            "Installing collected packages: numpy-stl\n",
            "Successfully installed numpy-stl-2.17.1\n"
          ]
        }
      ],
      "source": [
        "!pip install numpy-stl"
      ]
    },
    {
      "cell_type": "code",
      "source": [
        "import numpy as np\n",
        "from stl import mesh\n",
        "\n",
        "def ssort(A, return_unique=False):\n",
        "\n",
        "    ARG = np.argsort(A[0] , kind=\"mergesort\")\n",
        "    A   = A[:,ARG]\n",
        "    \n",
        "    ikk = np.array([], dtype=np.int32)\n",
        "    for k in range(1,len(A)):\n",
        "        #ik = np.where(mydiff(A[k-1]) != 0)[0]\n",
        "        ik = np.where( np.diff(A[k-1], prepend=A[k-1,0]-1, append=A[k-1,-1]+1) != 0)[0]\n",
        "        ik = np.union1d(ikk, ik)\n",
        "        for l in range(len(ik)-1):\n",
        "            argssort = np.argsort(A[k,ik[l]:ik[l+1]] , kind=\"mergesort\")\n",
        "            A[:,ik[l]:ik[l+1]] = (A[:,ik[l]:ik[l+1]])[:,argssort]\n",
        "            ARG[ik[l]:ik[l+1]] = (ARG[ik[l]:ik[l+1]])[argssort]\n",
        "        ikk = 1*ik\n",
        "\n",
        "    k = len(A)-1 ## 8/30\n",
        "    if return_unique:\n",
        "        #ik = np.where(mydiff(A[k-1]) != 0)[0]\n",
        "        ik = np.where( np.diff(A[k], prepend=A[k,0]-1, append=A[k,-1]+1) != 0)[0]\n",
        "        ik = np.union1d(ikk, ik)\n",
        "        return A, ARG, ik[:-1]\n",
        "        ### !!! the final ikk keeps track of the uniques???\n",
        "    return A\n",
        "\n",
        "def bsearch_leftmost(A, T, L=0, R=None):\n",
        "    if R is None:\n",
        "        R = len(A)\n",
        "    while L < R:\n",
        "        m = (L + R) // 2 ##int( np.floor((L + R) / 2) )\n",
        "        if A[m] < T:\n",
        "            L = m + 1\n",
        "        else:\n",
        "            R = m\n",
        "    return L\n",
        "\n",
        "def bsearch_rightmost(A, T, L=0, R=None):\n",
        "    if R is None:\n",
        "        R = len(A)\n",
        "    while L < R:\n",
        "        m = (L + R) // 2 #int(np.floor((L + R) / 2)) # #\n",
        "        if A[m] > T:\n",
        "            R = m\n",
        "        else:\n",
        "            L = m + 1\n",
        "    return R - 1\n",
        "\n",
        "def binary_search_interval(A, value, L=0, R=None):\n",
        "\n",
        "    L, R = bsearch_leftmost(A, value, L=L, R=R), bsearch_rightmost(A, value, L=L, R=R)\n",
        "\n",
        "    if L <= R:\n",
        "        return L, R+1\n",
        "    else:\n",
        "        return L, L\n",
        "\n",
        "def tuplebsearch_interval(B, value, L=0, R=None): ### (value, B, L=0, R=None)\n",
        "    for columns in range(B.shape[0]): ### over entries/columns of the tuple\n",
        "        L, R = binary_search_interval(B[columns,:], value[columns], L=L, R=R)\n",
        "    return L, R #np.array([L,R]) #np.array"
      ],
      "metadata": {
        "id": "SAWmzz54VIqu"
      },
      "execution_count": 2,
      "outputs": []
    },
    {
      "cell_type": "code",
      "source": [
        "your_mesh = mesh.Mesh.from_file('gear.stl') ## https://www.amtekcompany.com/teaching-resources/stl-files/\n",
        "\n",
        "R_Ixy = your_mesh.vectors\n",
        "R_Ix  = R_Ixy.reshape( (R_Ixy.shape[0]*3, 3) , order=\"C\") ### get list-of-points per triangule -> list-of-points (many dupes)\n",
        "\n",
        "Ω0, iR, uR = ssort( R_Ix.T , return_unique=True)\n",
        "Ω0         = Ω0[:,uR] #### R is the location of the all unique points\n",
        "\n",
        "######\n",
        "Ω2 = np.zeros( (R_Ixy.shape[0], 3) , dtype=np.int32)\n",
        "for i in range(Ω2.shape[0]):\n",
        "    Ω2[i,0] = tuplebsearch_interval(Ω0, R_Ixy[i,0])[0]\n",
        "    Ω2[i,1] = tuplebsearch_interval(Ω0, R_Ixy[i,1])[0]\n",
        "    Ω2[i,2] = tuplebsearch_interval(Ω0, R_Ixy[i,2])[0]\n",
        "Ω2 = Ω2.swapaxes(0,1)\n",
        "\n",
        "print( Ω2.shape, Ω0[:,Ω2].shape )\n",
        "print( np.allclose( Ω0[:,Ω2].swapaxes(0,2), R_Ixy ) )"
      ],
      "metadata": {
        "colab": {
          "base_uri": "https://localhost:8080/"
        },
        "id": "x79sQcr9Bpc4",
        "outputId": "d5ff67ba-ac36-494e-ebad-1310c882075e"
      },
      "execution_count": 3,
      "outputs": [
        {
          "output_type": "stream",
          "name": "stdout",
          "text": [
            "(3, 4748) (3, 3, 4748)\n",
            "True\n"
          ]
        }
      ]
    },
    {
      "cell_type": "markdown",
      "source": [
        "## Let's compute the edges $\\Omega_1$"
      ],
      "metadata": {
        "id": "XEENGayaK9cC"
      }
    },
    {
      "cell_type": "code",
      "source": [
        "Ω1 = ( np.concatenate( (Ω2[:-1,:], np.roll( Ω2, 1, axis=0)[:-1,:], np.roll( Ω2, 2, axis=0)[:-1,:] ) , axis=1) ) ### there are duplicates\n",
        "### for every 2-tuple (A, B) -> (B, A)\n",
        "\n",
        "Ω1, B, u1 = ssort( Ω1 , return_unique=True)\n",
        "Ω1        = Ω1[:,u1]"
      ],
      "metadata": {
        "id": "sU6wtBMTH9XD"
      },
      "execution_count": 4,
      "outputs": []
    },
    {
      "cell_type": "markdown",
      "source": [
        "## Let's Compute the Euler Characteristic of the STL object"
      ],
      "metadata": {
        "id": "ltAqRm8kK263"
      }
    },
    {
      "cell_type": "code",
      "source": [
        "χ = Ω0.shape[1] - Ω1.shape[1]/2 + Ω2.shape[1] ## Euler Characteristic (E/2, because it is double counted...)"
      ],
      "metadata": {
        "id": "C_wADUNKIPhx"
      },
      "execution_count": 5,
      "outputs": []
    },
    {
      "cell_type": "code",
      "source": [],
      "metadata": {
        "id": "m7J3WIgFLQHc"
      },
      "execution_count": 5,
      "outputs": []
    }
  ]
}